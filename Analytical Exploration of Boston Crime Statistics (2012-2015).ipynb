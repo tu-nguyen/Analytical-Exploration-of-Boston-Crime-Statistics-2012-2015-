{
 "cells": [
  {
   "cell_type": "markdown",
   "metadata": {},
   "source": [
    "# Analytical Exploration of Boston Crime Statistics (2012-2015)\n",
    "\n",
    "## Content \n",
    "\n",
    "    1. Introduction\n",
    "    2. Import\n",
    "    3. Read Data\n",
    "    4. Clean Data\n",
    "    5. Analyze and \n",
    "    6. Add weather data/clean"
   ]
  },
  {
   "cell_type": "markdown",
   "metadata": {},
   "source": [
    "# 1. Introduction\n",
    "\n",
    "This is an updated versionof  an EDA I previously did last year (2017) using the same data set. This EDA examines the crime statistic from 2012 to 2015 using data provided by data.boston.gov. <Expand later>"
   ]
  },
  {
   "cell_type": "markdown",
   "metadata": {},
   "source": [
    "# 2. Import"
   ]
  },
  {
   "cell_type": "code",
   "execution_count": 1,
   "metadata": {},
   "outputs": [],
   "source": [
    "# To explicitly display dataframe \n",
    "from IPython.display import display\n",
    "\n",
    "# numpy for math and pandas for data processing\n",
    "import numpy as np\n",
    "import pandas as pd\n",
    "\n",
    "# For visualization\n",
    "import matplotlib.pyplot as plt\n",
    "%matplotlib inline\n",
    "import seaborn as sns\n",
    "\n",
    "# plt.style.use(\"seaborn\")\n",
    "sns.set_theme(\"darkgrid\")"
   ]
  },
  {
   "cell_type": "markdown",
   "metadata": {},
   "source": [
    "# 3. Read Data"
   ]
  },
  {
   "cell_type": "code",
   "execution_count": 2,
   "metadata": {
    "scrolled": false
   },
   "outputs": [
    {
     "data": {
      "text/html": [
       "<div>\n",
       "<style scoped>\n",
       "    .dataframe tbody tr th:only-of-type {\n",
       "        vertical-align: middle;\n",
       "    }\n",
       "\n",
       "    .dataframe tbody tr th {\n",
       "        vertical-align: top;\n",
       "    }\n",
       "\n",
       "    .dataframe thead th {\n",
       "        text-align: right;\n",
       "    }\n",
       "</style>\n",
       "<table border=\"1\" class=\"dataframe\">\n",
       "  <thead>\n",
       "    <tr style=\"text-align: right;\">\n",
       "      <th></th>\n",
       "      <th>COMPNOS</th>\n",
       "      <th>NatureCode</th>\n",
       "      <th>INCIDENT_TYPE_DESCRIPTION</th>\n",
       "      <th>MAIN_CRIMECODE</th>\n",
       "      <th>REPTDISTRICT</th>\n",
       "      <th>REPORTINGAREA</th>\n",
       "      <th>FROMDATE</th>\n",
       "      <th>WEAPONTYPE</th>\n",
       "      <th>Shooting</th>\n",
       "      <th>DOMESTIC</th>\n",
       "      <th>SHIFT</th>\n",
       "      <th>Year</th>\n",
       "      <th>Month</th>\n",
       "      <th>DAY_WEEK</th>\n",
       "      <th>UCRPART</th>\n",
       "      <th>X</th>\n",
       "      <th>Y</th>\n",
       "      <th>STREETNAME</th>\n",
       "      <th>XSTREETNAME</th>\n",
       "      <th>Location</th>\n",
       "    </tr>\n",
       "  </thead>\n",
       "  <tbody>\n",
       "    <tr>\n",
       "      <th>0</th>\n",
       "      <td>120420285.0</td>\n",
       "      <td>BERPTA</td>\n",
       "      <td>RESIDENTIAL BURGLARY</td>\n",
       "      <td>05RB</td>\n",
       "      <td>D4</td>\n",
       "      <td>629</td>\n",
       "      <td>2012-07-08 06:00:00</td>\n",
       "      <td>Other</td>\n",
       "      <td>No</td>\n",
       "      <td>No</td>\n",
       "      <td>Last</td>\n",
       "      <td>2012</td>\n",
       "      <td>7</td>\n",
       "      <td>Sunday</td>\n",
       "      <td>Part One</td>\n",
       "      <td>763273.1791</td>\n",
       "      <td>2951498.962</td>\n",
       "      <td>ABERDEEN ST</td>\n",
       "      <td>NaN</td>\n",
       "      <td>(42.34638135, -71.10379454)</td>\n",
       "    </tr>\n",
       "    <tr>\n",
       "      <th>1</th>\n",
       "      <td>120419202.0</td>\n",
       "      <td>PSHOT</td>\n",
       "      <td>AGGRAVATED ASSAULT</td>\n",
       "      <td>04xx</td>\n",
       "      <td>B2</td>\n",
       "      <td>327</td>\n",
       "      <td>2012-07-08 06:03:00</td>\n",
       "      <td>Firearm</td>\n",
       "      <td>Yes</td>\n",
       "      <td>No</td>\n",
       "      <td>Last</td>\n",
       "      <td>2012</td>\n",
       "      <td>7</td>\n",
       "      <td>Sunday</td>\n",
       "      <td>Part One</td>\n",
       "      <td>771223.1638</td>\n",
       "      <td>2940772.099</td>\n",
       "      <td>HOWARD AV</td>\n",
       "      <td>NaN</td>\n",
       "      <td>(42.31684135, -71.07458456)</td>\n",
       "    </tr>\n",
       "    <tr>\n",
       "      <th>2</th>\n",
       "      <td>120419213.0</td>\n",
       "      <td>ARMROB</td>\n",
       "      <td>ROBBERY</td>\n",
       "      <td>03xx</td>\n",
       "      <td>D4</td>\n",
       "      <td>625</td>\n",
       "      <td>2012-07-08 06:26:00</td>\n",
       "      <td>Firearm</td>\n",
       "      <td>No</td>\n",
       "      <td>No</td>\n",
       "      <td>Last</td>\n",
       "      <td>2012</td>\n",
       "      <td>7</td>\n",
       "      <td>Sunday</td>\n",
       "      <td>Part One</td>\n",
       "      <td>765118.8605</td>\n",
       "      <td>2950217.536</td>\n",
       "      <td>JERSEY ST</td>\n",
       "      <td>QUEENSBERRY ST</td>\n",
       "      <td>(42.34284135, -71.09698955)</td>\n",
       "    </tr>\n",
       "    <tr>\n",
       "      <th>3</th>\n",
       "      <td>120419223.0</td>\n",
       "      <td>ALARMC</td>\n",
       "      <td>COMMERCIAL BURGLARY</td>\n",
       "      <td>05CB</td>\n",
       "      <td>B2</td>\n",
       "      <td>258</td>\n",
       "      <td>2012-07-08 06:56:00</td>\n",
       "      <td>Other</td>\n",
       "      <td>No</td>\n",
       "      <td>No</td>\n",
       "      <td>Last</td>\n",
       "      <td>2012</td>\n",
       "      <td>7</td>\n",
       "      <td>Sunday</td>\n",
       "      <td>Part One</td>\n",
       "      <td>773591.8648</td>\n",
       "      <td>2940638.174</td>\n",
       "      <td>COLUMBIA RD</td>\n",
       "      <td>NaN</td>\n",
       "      <td>(42.3164411, -71.06582908)</td>\n",
       "    </tr>\n",
       "    <tr>\n",
       "      <th>4</th>\n",
       "      <td>120419236.0</td>\n",
       "      <td>ARMROB</td>\n",
       "      <td>ROBBERY</td>\n",
       "      <td>03xx</td>\n",
       "      <td>E18</td>\n",
       "      <td>496</td>\n",
       "      <td>2012-07-08 07:15:00</td>\n",
       "      <td>Firearm</td>\n",
       "      <td>No</td>\n",
       "      <td>No</td>\n",
       "      <td>Last</td>\n",
       "      <td>2012</td>\n",
       "      <td>7</td>\n",
       "      <td>Sunday</td>\n",
       "      <td>Part One</td>\n",
       "      <td>759042.7315</td>\n",
       "      <td>2923832.681</td>\n",
       "      <td>COLLINS ST</td>\n",
       "      <td>NaN</td>\n",
       "      <td>(42.27051636, -71.11989955)</td>\n",
       "    </tr>\n",
       "  </tbody>\n",
       "</table>\n",
       "</div>"
      ],
      "text/plain": [
       "       COMPNOS NatureCode INCIDENT_TYPE_DESCRIPTION MAIN_CRIMECODE  \\\n",
       "0  120420285.0     BERPTA      RESIDENTIAL BURGLARY           05RB   \n",
       "1  120419202.0     PSHOT         AGGRAVATED ASSAULT           04xx   \n",
       "2  120419213.0     ARMROB                   ROBBERY           03xx   \n",
       "3  120419223.0     ALARMC       COMMERCIAL BURGLARY           05CB   \n",
       "4  120419236.0     ARMROB                   ROBBERY           03xx   \n",
       "\n",
       "  REPTDISTRICT  REPORTINGAREA            FROMDATE WEAPONTYPE Shooting  \\\n",
       "0           D4            629 2012-07-08 06:00:00      Other       No   \n",
       "1           B2            327 2012-07-08 06:03:00    Firearm      Yes   \n",
       "2           D4            625 2012-07-08 06:26:00    Firearm       No   \n",
       "3           B2            258 2012-07-08 06:56:00      Other       No   \n",
       "4          E18            496 2012-07-08 07:15:00    Firearm       No   \n",
       "\n",
       "  DOMESTIC SHIFT  Year  Month DAY_WEEK   UCRPART            X            Y  \\\n",
       "0       No  Last  2012      7   Sunday  Part One  763273.1791  2951498.962   \n",
       "1       No  Last  2012      7   Sunday  Part One  771223.1638  2940772.099   \n",
       "2       No  Last  2012      7   Sunday  Part One  765118.8605  2950217.536   \n",
       "3       No  Last  2012      7   Sunday  Part One  773591.8648  2940638.174   \n",
       "4       No  Last  2012      7   Sunday  Part One  759042.7315  2923832.681   \n",
       "\n",
       "    STREETNAME     XSTREETNAME                     Location  \n",
       "0  ABERDEEN ST             NaN  (42.34638135, -71.10379454)  \n",
       "1    HOWARD AV             NaN  (42.31684135, -71.07458456)  \n",
       "2    JERSEY ST  QUEENSBERRY ST  (42.34284135, -71.09698955)  \n",
       "3  COLUMBIA RD             NaN   (42.3164411, -71.06582908)  \n",
       "4   COLLINS ST             NaN  (42.27051636, -71.11989955)  "
      ]
     },
     "metadata": {},
     "output_type": "display_data"
    },
    {
     "data": {
      "text/html": [
       "<div>\n",
       "<style scoped>\n",
       "    .dataframe tbody tr th:only-of-type {\n",
       "        vertical-align: middle;\n",
       "    }\n",
       "\n",
       "    .dataframe tbody tr th {\n",
       "        vertical-align: top;\n",
       "    }\n",
       "\n",
       "    .dataframe thead th {\n",
       "        text-align: right;\n",
       "    }\n",
       "</style>\n",
       "<table border=\"1\" class=\"dataframe\">\n",
       "  <thead>\n",
       "    <tr style=\"text-align: right;\">\n",
       "      <th></th>\n",
       "      <th>INCIDENT_NUMBER</th>\n",
       "      <th>OFFENSE_CODE</th>\n",
       "      <th>OFFENSE_CODE_GROUP</th>\n",
       "      <th>OFFENSE_DESCRIPTION</th>\n",
       "      <th>DISTRICT</th>\n",
       "      <th>REPORTING_AREA</th>\n",
       "      <th>SHOOTING</th>\n",
       "      <th>OCCURRED_ON_DATE</th>\n",
       "      <th>YEAR</th>\n",
       "      <th>MONTH</th>\n",
       "      <th>DAY_OF_WEEK</th>\n",
       "      <th>HOUR</th>\n",
       "      <th>UCR_PART</th>\n",
       "      <th>STREET</th>\n",
       "      <th>Lat</th>\n",
       "      <th>Long</th>\n",
       "      <th>Location</th>\n",
       "    </tr>\n",
       "  </thead>\n",
       "  <tbody>\n",
       "    <tr>\n",
       "      <th>0</th>\n",
       "      <td>I192068249</td>\n",
       "      <td>2647</td>\n",
       "      <td>Other</td>\n",
       "      <td>THREATS TO DO BODILY HARM</td>\n",
       "      <td>B2</td>\n",
       "      <td>280</td>\n",
       "      <td>NaN</td>\n",
       "      <td>2015-08-28 10:20:00</td>\n",
       "      <td>2015</td>\n",
       "      <td>8</td>\n",
       "      <td>Friday</td>\n",
       "      <td>10</td>\n",
       "      <td>Part Two</td>\n",
       "      <td>WASHINGTON ST</td>\n",
       "      <td>42.330119</td>\n",
       "      <td>-71.084251</td>\n",
       "      <td>(42.33011862, -71.08425106)</td>\n",
       "    </tr>\n",
       "    <tr>\n",
       "      <th>1</th>\n",
       "      <td>I192061894</td>\n",
       "      <td>1106</td>\n",
       "      <td>Confidence Games</td>\n",
       "      <td>FRAUD - CREDIT CARD / ATM FRAUD</td>\n",
       "      <td>C11</td>\n",
       "      <td>356</td>\n",
       "      <td>NaN</td>\n",
       "      <td>2015-08-20 00:00:00</td>\n",
       "      <td>2015</td>\n",
       "      <td>8</td>\n",
       "      <td>Thursday</td>\n",
       "      <td>0</td>\n",
       "      <td>Part Two</td>\n",
       "      <td>CHARLES ST</td>\n",
       "      <td>42.300605</td>\n",
       "      <td>-71.061268</td>\n",
       "      <td>(42.30060543, -71.06126785)</td>\n",
       "    </tr>\n",
       "    <tr>\n",
       "      <th>2</th>\n",
       "      <td>I192038828</td>\n",
       "      <td>1107</td>\n",
       "      <td>Fraud</td>\n",
       "      <td>FRAUD - IMPERSONATION</td>\n",
       "      <td>A1</td>\n",
       "      <td>172</td>\n",
       "      <td>NaN</td>\n",
       "      <td>2015-11-02 12:24:00</td>\n",
       "      <td>2015</td>\n",
       "      <td>11</td>\n",
       "      <td>Monday</td>\n",
       "      <td>12</td>\n",
       "      <td>Part Two</td>\n",
       "      <td>ALBANY ST</td>\n",
       "      <td>42.334288</td>\n",
       "      <td>-71.072395</td>\n",
       "      <td>(42.33428841, -71.07239518)</td>\n",
       "    </tr>\n",
       "    <tr>\n",
       "      <th>3</th>\n",
       "      <td>I192008877</td>\n",
       "      <td>1107</td>\n",
       "      <td>Fraud</td>\n",
       "      <td>FRAUD - IMPERSONATION</td>\n",
       "      <td>E18</td>\n",
       "      <td>525</td>\n",
       "      <td>NaN</td>\n",
       "      <td>2015-07-31 10:00:00</td>\n",
       "      <td>2015</td>\n",
       "      <td>7</td>\n",
       "      <td>Friday</td>\n",
       "      <td>10</td>\n",
       "      <td>Part Two</td>\n",
       "      <td>WINGATE RD</td>\n",
       "      <td>42.237009</td>\n",
       "      <td>-71.129566</td>\n",
       "      <td>(42.23700950, -71.12956606)</td>\n",
       "    </tr>\n",
       "    <tr>\n",
       "      <th>4</th>\n",
       "      <td>I182090828</td>\n",
       "      <td>1102</td>\n",
       "      <td>Fraud</td>\n",
       "      <td>FRAUD - FALSE PRETENSE / SCHEME</td>\n",
       "      <td>D4</td>\n",
       "      <td>159</td>\n",
       "      <td>NaN</td>\n",
       "      <td>2015-12-01 12:00:00</td>\n",
       "      <td>2015</td>\n",
       "      <td>12</td>\n",
       "      <td>Tuesday</td>\n",
       "      <td>12</td>\n",
       "      <td>Part Two</td>\n",
       "      <td>UPTON ST</td>\n",
       "      <td>42.342432</td>\n",
       "      <td>-71.072258</td>\n",
       "      <td>(42.34243222, -71.07225766)</td>\n",
       "    </tr>\n",
       "  </tbody>\n",
       "</table>\n",
       "</div>"
      ],
      "text/plain": [
       "  INCIDENT_NUMBER  OFFENSE_CODE OFFENSE_CODE_GROUP  \\\n",
       "0      I192068249          2647              Other   \n",
       "1      I192061894          1106   Confidence Games   \n",
       "2      I192038828          1107              Fraud   \n",
       "3      I192008877          1107              Fraud   \n",
       "4      I182090828          1102              Fraud   \n",
       "\n",
       "               OFFENSE_DESCRIPTION DISTRICT REPORTING_AREA SHOOTING  \\\n",
       "0        THREATS TO DO BODILY HARM       B2            280      NaN   \n",
       "1  FRAUD - CREDIT CARD / ATM FRAUD      C11            356      NaN   \n",
       "2            FRAUD - IMPERSONATION       A1            172      NaN   \n",
       "3            FRAUD - IMPERSONATION      E18            525      NaN   \n",
       "4  FRAUD - FALSE PRETENSE / SCHEME       D4            159      NaN   \n",
       "\n",
       "     OCCURRED_ON_DATE  YEAR  MONTH DAY_OF_WEEK  HOUR  UCR_PART         STREET  \\\n",
       "0 2015-08-28 10:20:00  2015      8      Friday    10  Part Two  WASHINGTON ST   \n",
       "1 2015-08-20 00:00:00  2015      8    Thursday     0  Part Two     CHARLES ST   \n",
       "2 2015-11-02 12:24:00  2015     11      Monday    12  Part Two      ALBANY ST   \n",
       "3 2015-07-31 10:00:00  2015      7      Friday    10  Part Two     WINGATE RD   \n",
       "4 2015-12-01 12:00:00  2015     12     Tuesday    12  Part Two       UPTON ST   \n",
       "\n",
       "         Lat       Long                     Location  \n",
       "0  42.330119 -71.084251  (42.33011862, -71.08425106)  \n",
       "1  42.300605 -71.061268  (42.30060543, -71.06126785)  \n",
       "2  42.334288 -71.072395  (42.33428841, -71.07239518)  \n",
       "3  42.237009 -71.129566  (42.23700950, -71.12956606)  \n",
       "4  42.342432 -71.072258  (42.34243222, -71.07225766)  "
      ]
     },
     "metadata": {},
     "output_type": "display_data"
    },
    {
     "name": "stdout",
     "output_type": "stream",
     "text": [
      "Dataset ready..\n"
     ]
    }
   ],
   "source": [
    "# Stores the data in a variable called data\n",
    "# dtype={\"SHIFT\": \"string\"} to avoid DtypeWarning\n",
    "# parse_date to note have to convert later\n",
    "part1 = pd.read_csv(\"./data/crime-incident-reports-2012-2015.csv\", dtype={\"SHIFT\": \"string\"}, parse_dates=['FROMDATE'], error_bad_lines=False)\n",
    "part2 = pd.read_csv(\"./data/crime-incident-reports-2015.csv\", dtype={\"SHIFT\": \"string\"}, parse_dates=['OCCURRED_ON_DATE'], error_bad_lines=False)\n",
    "\n",
    "# Show top 5 rows\n",
    "display(part1.head())\n",
    "display(part2.head())\n",
    "\n",
    "print (\"Dataset ready..\")"
   ]
  },
  {
   "cell_type": "markdown",
   "metadata": {},
   "source": [
    "# 4. Clean Data and Combine\n"
   ]
  },
  {
   "cell_type": "code",
   "execution_count": 3,
   "metadata": {},
   "outputs": [
    {
     "name": "stderr",
     "output_type": "stream",
     "text": [
      "<ipython-input-3-7d8f89d7f253>:12: FutureWarning: The default value of regex will change from True to False in a future version. In addition, single character regular expressions will*not* be treated as literal strings when regex=True.\n",
      "  part1['Location'] = part1.Location.str.replace(\"(\", \"\").str.replace(\")\", \"\")\n"
     ]
    }
   ],
   "source": [
    "# Remove columns that we most likely won't use for this EDA\n",
    "# I wanted to use X and Y instead of location but the numbers weren't formatted correctly\n",
    "part1 = part1.drop([\"COMPNOS\", \"NatureCode\", \"MAIN_CRIMECODE\", \"REPORTINGAREA\", \"WEAPONTYPE\", \"DOMESTIC\",\n",
    "                  \"SHIFT\", \"UCRPART\", \"XSTREETNAME\", \"X\", \"Y\"], axis = 1)\n",
    "\n",
    "# legacy system did not have column for Hour\n",
    "part1.insert(loc = 7, column = 'Hour', value = part1['FROMDATE'].dt.hour)\n",
    "\n",
    "# Since 2012 doesn't start until July, we will drop it\n",
    "part1 = part1.loc[ part1['FROMDATE'].dt.year > 2012 ]\n",
    "\n",
    "part1['Location'] = part1.Location.str.replace(\"(\", \"\").str.replace(\")\", \"\")\n",
    "part1[['Lat','Long']] = part1.Location.str.split(\", \", expand=True) \n",
    "\n",
    "part2 = part2.drop([\"INCIDENT_NUMBER\", \"OFFENSE_CODE\", \"OFFENSE_CODE_GROUP\", \"REPORTING_AREA\",\n",
    "                  \"UCR_PART\"], axis = 1)\n",
    "part2[\"SHOOTING\"] = part2[\"SHOOTING\"].fillna(\"No\")\n",
    "part2[\"SHOOTING\"] = part2[\"SHOOTING\"].replace(\"Y\", \"Yes\")\n",
    "\n",
    "rename1 = {'INCIDENT_TYPE_DESCRIPTION':'Type',\n",
    "          'REPTDISTRICT':'District',\n",
    "          'FROMDATE':'Date',\n",
    "          'SHOOTING':'Shooting',\n",
    "          'Year':'Year',\n",
    "          'Month':'Month',\n",
    "          'DAY_WEEK':'Day',\n",
    "          'STREETNAME':'Street'}\n",
    "part1.rename(index=str, columns=rename1, inplace=True)\n",
    "\n",
    "rename2 = {'OFFENSE_DESCRIPTION':'Type',\n",
    "          'DISTRICT':'District',\n",
    "          'OCCURRED_ON_DATE':'Date',\n",
    "          'SHOOTING':'Shooting',\n",
    "          'YEAR':'Year',\n",
    "          'MONTH':'Month',\n",
    "          'DAY_OF_WEEK':'Day',\n",
    "           'HOUR':'Hour',\n",
    "          'STREET':'Street'}\n",
    "part2.rename(index=str, columns=rename2, inplace=True)\n",
    "\n",
    "# Combine\n",
    "data = pd.concat([part1, part2], ignore_index=False, axis=0)"
   ]
  },
  {
   "cell_type": "code",
   "execution_count": 4,
   "metadata": {},
   "outputs": [
    {
     "name": "stdout",
     "output_type": "stream",
     "text": [
      "Dataset shape before any changes:  (278467, 12)\n",
      "Dataset shape after drop_duplicate:  (276117, 12)\n",
      "Dataset shape after dropna:  (273571, 12)\n",
      "Columns and types after drop: \n"
     ]
    },
    {
     "data": {
      "text/plain": [
       "Type                object\n",
       "District            object\n",
       "Date        datetime64[ns]\n",
       "Shooting            object\n",
       "Year                 int64\n",
       "Month                int64\n",
       "Day                 object\n",
       "Hour                 int64\n",
       "Street              object\n",
       "Location            object\n",
       "Lat                 object\n",
       "Long                object\n",
       "dtype: object"
      ]
     },
     "metadata": {},
     "output_type": "display_data"
    },
    {
     "name": "stdout",
     "output_type": "stream",
     "text": [
      "Final dataset: \n"
     ]
    },
    {
     "data": {
      "text/html": [
       "<div>\n",
       "<style scoped>\n",
       "    .dataframe tbody tr th:only-of-type {\n",
       "        vertical-align: middle;\n",
       "    }\n",
       "\n",
       "    .dataframe tbody tr th {\n",
       "        vertical-align: top;\n",
       "    }\n",
       "\n",
       "    .dataframe thead th {\n",
       "        text-align: right;\n",
       "    }\n",
       "</style>\n",
       "<table border=\"1\" class=\"dataframe\">\n",
       "  <thead>\n",
       "    <tr style=\"text-align: right;\">\n",
       "      <th></th>\n",
       "      <th>Type</th>\n",
       "      <th>District</th>\n",
       "      <th>Date</th>\n",
       "      <th>Shooting</th>\n",
       "      <th>Year</th>\n",
       "      <th>Month</th>\n",
       "      <th>Day</th>\n",
       "      <th>Hour</th>\n",
       "      <th>Street</th>\n",
       "      <th>Location</th>\n",
       "      <th>Lat</th>\n",
       "      <th>Long</th>\n",
       "    </tr>\n",
       "  </thead>\n",
       "  <tbody>\n",
       "    <tr>\n",
       "      <th>13441</th>\n",
       "      <td>VAL</td>\n",
       "      <td>A1</td>\n",
       "      <td>2013-02-06 11:01:00</td>\n",
       "      <td>No</td>\n",
       "      <td>2013</td>\n",
       "      <td>2</td>\n",
       "      <td>Wednesday</td>\n",
       "      <td>11</td>\n",
       "      <td>BEACH ST</td>\n",
       "      <td>42.35138634, -71.06082456</td>\n",
       "      <td>42.35138634</td>\n",
       "      <td>-71.06082456</td>\n",
       "    </tr>\n",
       "    <tr>\n",
       "      <th>13498</th>\n",
       "      <td>VAL</td>\n",
       "      <td>C6</td>\n",
       "      <td>2013-02-08 14:15:00</td>\n",
       "      <td>No</td>\n",
       "      <td>2013</td>\n",
       "      <td>2</td>\n",
       "      <td>Friday</td>\n",
       "      <td>14</td>\n",
       "      <td>ALLSTATE RD</td>\n",
       "      <td>42.32543556, -71.06387302</td>\n",
       "      <td>42.32543556</td>\n",
       "      <td>-71.06387302</td>\n",
       "    </tr>\n",
       "    <tr>\n",
       "      <th>13527</th>\n",
       "      <td>VAL</td>\n",
       "      <td>B2</td>\n",
       "      <td>2013-02-09 12:00:00</td>\n",
       "      <td>No</td>\n",
       "      <td>2013</td>\n",
       "      <td>2</td>\n",
       "      <td>Saturday</td>\n",
       "      <td>12</td>\n",
       "      <td>AKRON ST</td>\n",
       "      <td>42.3257856, -71.08563716</td>\n",
       "      <td>42.3257856</td>\n",
       "      <td>-71.08563716</td>\n",
       "    </tr>\n",
       "  </tbody>\n",
       "</table>\n",
       "</div>"
      ],
      "text/plain": [
       "      Type District                Date Shooting  Year  Month        Day  \\\n",
       "13441  VAL       A1 2013-02-06 11:01:00       No  2013      2  Wednesday   \n",
       "13498  VAL       C6 2013-02-08 14:15:00       No  2013      2     Friday   \n",
       "13527  VAL       B2 2013-02-09 12:00:00       No  2013      2   Saturday   \n",
       "\n",
       "       Hour       Street                   Location          Lat          Long  \n",
       "13441    11     BEACH ST  42.35138634, -71.06082456  42.35138634  -71.06082456  \n",
       "13498    14  ALLSTATE RD  42.32543556, -71.06387302  42.32543556  -71.06387302  \n",
       "13527    12     AKRON ST   42.3257856, -71.08563716   42.3257856  -71.08563716  "
      ]
     },
     "metadata": {},
     "output_type": "display_data"
    }
   ],
   "source": [
    "print(\"Dataset shape before any changes: \", data.shape)\n",
    "\n",
    "# Remove duplicates\n",
    "data.drop_duplicates(inplace=True)\n",
    "print(\"Dataset shape after drop_duplicate: \", data.shape)\n",
    "\n",
    "# Remove any null data but it looks like there was barely much this method took out\n",
    "data = data.dropna()\n",
    "print(\"Dataset shape after dropna: \", data.shape)\n",
    "\n",
    "print(\"Columns and types after drop: \")\n",
    "display(data.dtypes)\n",
    "\n",
    "# \n",
    "# data['Lat'] = data['Lat'].apply(str)\n",
    "# data['Long'] = data['Long'].apply(str)\n",
    "      \n",
    "print(\"Final dataset: \")\n",
    "display(data.head(3))"
   ]
  },
  {
   "cell_type": "code",
   "execution_count": 5,
   "metadata": {},
   "outputs": [
    {
     "name": "stdout",
     "output_type": "stream",
     "text": [
      "<class 'pandas.core.frame.DataFrame'>\n",
      "DatetimeIndex: 273571 entries, 2013-02-06 11:01:00 to 2015-07-09 13:38:00\n",
      "Data columns (total 12 columns):\n",
      " #   Column    Non-Null Count   Dtype         \n",
      "---  ------    --------------   -----         \n",
      " 0   Type      273571 non-null  object        \n",
      " 1   District  273571 non-null  object        \n",
      " 2   Date      273571 non-null  datetime64[ns]\n",
      " 3   Shooting  273571 non-null  object        \n",
      " 4   Year      273571 non-null  int64         \n",
      " 5   Month     273571 non-null  int64         \n",
      " 6   Day       273571 non-null  object        \n",
      " 7   Hour      273571 non-null  int64         \n",
      " 8   Street    273571 non-null  object        \n",
      " 9   Location  273571 non-null  object        \n",
      " 10  Lat       273571 non-null  object        \n",
      " 11  Long      273571 non-null  object        \n",
      "dtypes: datetime64[ns](1), int64(3), object(8)\n",
      "memory usage: 27.1+ MB\n"
     ]
    }
   ],
   "source": [
    "# Setting the datetimeindex to be the date\n",
    "data.index = pd.DatetimeIndex(data.Date)\n",
    "\n",
    "data.info()"
   ]
  },
  {
   "cell_type": "markdown",
   "metadata": {},
   "source": [
    "# 5. Exploration and Visualization\n",
    "    a. Crime by District\n",
    "    b. Yearly Trend\n",
    "    c. By Month\n",
    "    d. Day of the Week\n",
    "    e. Time of the Day\n",
    "    f. Frequncy of Incident type\n",
    "    g. Street\n",
    "    h. Shooting vs Non-shooting\n",
    "    i. Map"
   ]
  },
  {
   "cell_type": "code",
   "execution_count": 6,
   "metadata": {},
   "outputs": [
    {
     "name": "stdout",
     "output_type": "stream",
     "text": [
      "B2     41684\n",
      "D4     38351\n",
      "C11    36076\n",
      "A1     30561\n",
      "B3     26322\n",
      "C6     20920\n",
      "D14    19286\n",
      "E13    15234\n",
      "E18    14282\n",
      "A7     12983\n",
      "E5     12156\n",
      "A15     5708\n",
      "HTU        8\n",
      "Name: District, dtype: int64\n"
     ]
    },
    {
     "data": {
      "image/png": "[encoded data removed]",
      "text/plain": [
       "<Figure size 1152x576 with 1 Axes>"
      ]
     },
     "metadata": {},
     "output_type": "display_data"
    }
   ],
   "source": [
    "# a. Crime by District\n",
    "print(data['District'].value_counts())\n",
    "\n",
    "plt.figure(figsize=(16,8))\n",
    "data['District'].value_counts().plot.bar(color=sns.color_palette())\n",
    "plt.show()"
   ]
  },
  {
   "cell_type": "markdown",
   "metadata": {},
   "source": [
    "Seems like A15, aka Charlestown, is the district with the least amount of crimes and Roxbury is on top. As a resident of Dorchester all my life, I'm surprised B3 is so low. B3, aka Mattapan, has always been refered to as \"Murderpan\" around my area, but it seems C11, aka Dorchester, is higher on the list."
   ]
  },
  {
   "cell_type": "code",
   "execution_count": 7,
   "metadata": {},
   "outputs": [
    {
     "data": {
      "image/png": "[encoded data removed]",
      "text/plain": [
       "<Figure size 1152x576 with 1 Axes>"
      ]
     },
     "metadata": {},
     "output_type": "display_data"
    }
   ],
   "source": [
    "# b. Yearly Trend\n",
    "# data['Year'].value_counts(sort = False)\n",
    "\n",
    "plt.figure(figsize=(16,8))\n",
    "data['Year'].value_counts().plot.bar(color=sns.color_palette())\n",
    "plt.show()"
   ]
  },
  {
   "cell_type": "code",
   "execution_count": 8,
   "metadata": {
    "scrolled": false
   },
   "outputs": [
    {
     "data": {
      "image/png": "[encoded data removed]",
      "text/plain": [
       "<Figure size 1296x360 with 1 Axes>"
      ]
     },
     "metadata": {},
     "output_type": "display_data"
    }
   ],
   "source": [
    "# c. By Month\n",
    "data['Month'].value_counts()\n",
    "\n",
    "plt.figure(figsize=(18,5))\n",
    "data.resample('M').size().plot(legend=False)\n",
    "plt.title('Number of crimes per month (2013 - 2015)')\n",
    "plt.xlabel('Months')\n",
    "plt.ylabel('Number of crimes')\n",
    "plt.show()"
   ]
  },
  {
   "cell_type": "markdown",
   "metadata": {},
   "source": [
    "I suspect the spike is overlapping data between the legacy July 2012 - August 205 and the new 2015."
   ]
  },
  {
   "cell_type": "code",
   "execution_count": 9,
   "metadata": {},
   "outputs": [
    {
     "data": {
      "text/plain": [
       "Text(0.5, 1.0, 'Number of crimes by day of the week')"
      ]
     },
     "execution_count": 9,
     "metadata": {},
     "output_type": "execute_result"
    },
    {
     "data": {
      "image/png": "[encoded data removed]",
      "text/plain": [
       "<Figure size 432x288 with 1 Axes>"
      ]
     },
     "metadata": {},
     "output_type": "display_data"
    }
   ],
   "source": [
    "# d. Day of the week\n",
    "days = ['Monday','Tuesday','Wednesday',  'Thursday', 'Friday', 'Saturday', 'Sunday']\n",
    "data.groupby([data.index.dayofweek]).size().plot(kind='barh', color=sns.color_palette())\n",
    "\n",
    "plt.ylabel('Days of the week')\n",
    "plt.yticks(np.arange(7), days)\n",
    "plt.xlabel('Number of crimes')\n",
    "plt.title('Number of crimes by day of the week')\n",
    "\n",
    "# data['Day'].value_counts()"
   ]
  },
  {
   "cell_type": "markdown",
   "metadata": {},
   "source": [
    "Sunday seems to be the least active, and Friday the most active, overall it's pretty consistent throughout."
   ]
  },
  {
   "cell_type": "code",
   "execution_count": 10,
   "metadata": {},
   "outputs": [
    {
     "data": {
      "text/plain": [
       "Text(0.5, 1.0, 'Number of crimes by Hour')"
      ]
     },
     "execution_count": 10,
     "metadata": {},
     "output_type": "execute_result"
    },
    {
     "data": {
      "image/png": "[encoded data removed]",
      "text/plain": [
       "<Figure size 432x288 with 1 Axes>"
      ]
     },
     "metadata": {},
     "output_type": "display_data"
    }
   ],
   "source": [
    "# e. Time of the Day\n",
    "# data['Hour'].value_counts(sort = 0)\n",
    "data.groupby([data.Hour]).size().plot(kind='barh', color=sns.color_palette())\n",
    "\n",
    "plt.ylabel('Time of the Day')\n",
    "plt.yticks(np.arange(24))\n",
    "plt.xlabel('Number of crimes')\n",
    "plt.title('Number of crimes by Hour')\n",
    "\n",
    "# plt.figure(figsize=(18,5))\n",
    "# plt.title('Time of the Day')\n",
    "# plt.xlabel('Time')\n",
    "# plt.ylabel('Number of crimes')\n",
    "# plt.show()\n",
    "\n",
    "# data.plot.scatter(x='Hour')"
   ]
  },
  {
   "cell_type": "markdown",
   "metadata": {},
   "source": [
    "I would take the above data with a grain of salt, it's possible that for some of the rows, 0 is suppose to be null rather than 00:00. \n",
    "\n",
    "Taking that out of consideration, crime is most active between between 16:00 - 18:00 and least active between 04:00 - 05:00."
   ]
  },
  {
   "cell_type": "code",
   "execution_count": 11,
   "metadata": {},
   "outputs": [
    {
     "data": {
      "text/plain": [
       "VAL                           23146\n",
       "OTHER LARCENY                 20089\n",
       "SIMPLE ASSAULT                14816\n",
       "MedAssist                     14616\n",
       "VANDALISM                     13466\n",
       "MVAcc                         11341\n",
       "InvPer                        10957\n",
       "LARCENY FROM MOTOR VEHICLE    10073\n",
       "DRUG CHARGES                   9383\n",
       "FRAUD                          7373\n",
       "Name: Type, dtype: int64"
      ]
     },
     "execution_count": 11,
     "metadata": {},
     "output_type": "execute_result"
    }
   ],
   "source": [
    "# f. Frequncy of Incident type\n",
    "data['Type'].value_counts().nlargest(10)"
   ]
  },
  {
   "cell_type": "code",
   "execution_count": 12,
   "metadata": {},
   "outputs": [
    {
     "data": {
      "text/plain": [
       "DRUGS - POSS CLASS E INTENT TO MF DIST DISP    1\n",
       "LARCENY OTHER UNDER $50                        1\n",
       "Bomb Hoax                                      1\n",
       "LARCENY NON-ACCESSORY FROM VEH. $50 TO $199    1\n",
       "BioThreat                                      1\n",
       "CHILD ABUSE                                    1\n",
       "B&E NON-RESIDENCE DAY - NO PROP TAKEN          1\n",
       "WEAPON - FIREARM - SALE / TRAFFICKING          1\n",
       "LARCENY BICYCLE $200 & OVER                    1\n",
       "A&B ON POLICE OFFICER                          1\n",
       "Name: Type, dtype: int64"
      ]
     },
     "execution_count": 12,
     "metadata": {},
     "output_type": "execute_result"
    }
   ],
   "source": [
    "data['Type'].value_counts().nsmallest(10).sort_values(ascending=False)"
   ]
  },
  {
   "cell_type": "code",
   "execution_count": 13,
   "metadata": {
    "scrolled": true
   },
   "outputs": [
    {
     "data": {
      "text/plain": [
       "WASHINGTON ST       14268\n",
       "BOYLSTON ST          6831\n",
       "BLUE HILL AV         5111\n",
       "TREMONT ST           4435\n",
       "CENTRE ST            3883\n",
       "DORCHESTER AV        3826\n",
       "MASSACHUSETTS AV     3594\n",
       "COMMONWEALTH AV      3492\n",
       "COLUMBIA RD          2651\n",
       "HARRISON AV          2524\n",
       "Name: Street, dtype: int64"
      ]
     },
     "execution_count": 13,
     "metadata": {},
     "output_type": "execute_result"
    }
   ],
   "source": [
    "# g. Street\n",
    "data['Street'].value_counts().nlargest(10)"
   ]
  },
  {
   "cell_type": "markdown",
   "metadata": {},
   "source": [
    "I've lived off of both Blue Hill ave and Dorchester ave for the majority of my life and fully expected both to be in the top 5. No surprise at all. "
   ]
  },
  {
   "cell_type": "code",
   "execution_count": 14,
   "metadata": {},
   "outputs": [
    {
     "name": "stdout",
     "output_type": "stream",
     "text": [
      "Shooting    0.256241\n",
      "dtype: float64\n"
     ]
    },
    {
     "data": {
      "image/png": "[encoded data removed]",
      "text/plain": [
       "<Figure size 432x288 with 1 Axes>"
      ]
     },
     "metadata": {},
     "output_type": "display_data"
    },
    {
     "name": "stdout",
     "output_type": "stream",
     "text": [
      "0.5757604836388063\n"
     ]
    },
    {
     "data": {
      "image/png": "[encoded data removed]",
      "text/plain": [
       "<Figure size 432x288 with 1 Axes>"
      ]
     },
     "metadata": {},
     "output_type": "display_data"
    },
    {
     "name": "stdout",
     "output_type": "stream",
     "text": [
      "0.1121222393157936\n"
     ]
    },
    {
     "data": {
      "image/png": "[encoded data removed]",
      "text/plain": [
       "<Figure size 432x288 with 1 Axes>"
      ]
     },
     "metadata": {},
     "output_type": "display_data"
    },
    {
     "name": "stdout",
     "output_type": "stream",
     "text": [
      "0.37975385297704845\n"
     ]
    },
    {
     "data": {
      "image/png": "[encoded data removed]",
      "text/plain": [
       "<Figure size 432x288 with 1 Axes>"
      ]
     },
     "metadata": {},
     "output_type": "display_data"
    }
   ],
   "source": [
    "# h. Shooting vs Non-shooting\n",
    "print((data[data['Shooting'] == 'Yes'].count()['Shooting'] / data[['Shooting']].count()) * 100)\n",
    " \n",
    "# Data to plot\n",
    "labels = 'Shooting', 'Non-shooting'\n",
    "sizes = [(data[data['Shooting'] == 'Yes'].count()['Shooting']), (data[data['Shooting'] == 'No'].count()['Shooting'])]\n",
    "colors = ['brown', 'gray', ]\n",
    "explode = (0.1, 0)  # explode 1st slice\n",
    " \n",
    "# Plot overall\n",
    "plt.pie(sizes, explode=explode, labels=labels, colors=colors,\n",
    "autopct='%1.1f%%', shadow=True, startangle=140)\n",
    " \n",
    "plt.axis('equal')\n",
    "plt.show()\n",
    "\n",
    "# Plot base on top 3 district starting with B2\n",
    "top = (data[(data['Shooting'] == 'Yes') & (data['District'] == 'B2')].count()['Shooting'])\n",
    "bottom = (data[(data['District'] == 'B2')].count()['Shooting'])\n",
    "\n",
    "print((top / bottom) * 100)\n",
    "\n",
    "# Data to plot\n",
    "labels = 'Shooting in B2', 'Non-shooting'\n",
    "sizes = [data[(data['Shooting'] == 'Yes') & (data['District'] == 'B2')].count()['Shooting'], \n",
    "         data[(data['Shooting'] == 'No') & (data['District'] == 'B2')].count()['Shooting']]\n",
    "colors = ['brown', 'gray', ]\n",
    "explode = (0.1, 0)  # explode 1st slice\n",
    " \n",
    "# Plot overall\n",
    "plt.pie(sizes, explode=explode, labels=labels, colors=colors,\n",
    "autopct='%1.1f%%', shadow=True, startangle=140)\n",
    " \n",
    "plt.axis('equal')\n",
    "plt.show()\n",
    "\n",
    "# D4\n",
    "top = (data[(data['Shooting'] == 'Yes') & (data['District'] == 'D4')].count()['Shooting'])\n",
    "bottom = (data[(data['District'] == 'D4')].count()['Shooting'])\n",
    "\n",
    "print((top / bottom) * 100)\n",
    "\n",
    "# Data to plot\n",
    "labels = 'Shooting in D4', 'Non-shooting'\n",
    "sizes = [data[(data['Shooting'] == 'Yes') & (data['District'] == 'D4')].count()['Shooting'], \n",
    "         data[(data['Shooting'] == 'No') & (data['District'] == 'D4')].count()['Shooting']]\n",
    "colors = ['brown', 'gray', ]\n",
    "explode = (0.1, 0)  # explode 1st slice\n",
    " \n",
    "# Plot overall\n",
    "plt.pie(sizes, explode=explode, labels=labels, colors=colors,\n",
    "autopct='%1.1f%%', shadow=True, startangle=140)\n",
    " \n",
    "plt.axis('equal')\n",
    "plt.show()\n",
    "\n",
    "# C11\n",
    "top = (data[(data['Shooting'] == 'Yes') & (data['District'] == 'C11')].count()['Shooting'])\n",
    "bottom = (data[(data['District'] == 'C11')].count()['Shooting'])\n",
    "\n",
    "print((top / bottom) * 100)\n",
    "\n",
    "# Data to plot\n",
    "labels = 'Shooting in C11', 'Non-shooting'\n",
    "sizes = [data[(data['Shooting'] == 'Yes') & (data['District'] == 'C11')].count()['Shooting'], \n",
    "         data[(data['Shooting'] == 'No') & (data['District'] == 'C11')].count()['Shooting']]\n",
    "colors = ['brown', 'gray', ]\n",
    "explode = (0.1, 0)  # explode 1st slice\n",
    " \n",
    "# Plot overall\n",
    "plt.pie(sizes, explode=explode, labels=labels, colors=colors,\n",
    "autopct='%1.1f%%', shadow=True, startangle=140)\n",
    " \n",
    "plt.axis('equal')\n",
    "plt.show()\n"
   ]
  },
  {
   "cell_type": "code",
   "execution_count": 15,
   "metadata": {
    "scrolled": true
   },
   "outputs": [],
   "source": [
    "# Map"
   ]
  },
  {
   "cell_type": "markdown",
   "metadata": {},
   "source": [
    "# Weather"
   ]
  },
  {
   "cell_type": "code",
   "execution_count": 16,
   "metadata": {},
   "outputs": [],
   "source": [
    "# Stores the data in a variable called data\n",
    "# weather = pd.read_csv('weather.csv', encoding='latin-1')\n",
    "\n",
    "# Show top 5 rows\n",
    "# weather.head()"
   ]
  },
  {
   "cell_type": "code",
   "execution_count": null,
   "metadata": {},
   "outputs": [],
   "source": []
  }
 ],
 "metadata": {
  "kernelspec": {
   "display_name": "Python 3",
   "language": "python",
   "name": "python3"
  },
  "language_info": {
   "codemirror_mode": {
    "name": "ipython",
    "version": 3
   },
   "file_extension": ".py",
   "mimetype": "text/x-python",
   "name": "python",
   "nbconvert_exporter": "python",
   "pygments_lexer": "ipython3",
   "version": "3.12.3"
  }
 },
 "nbformat": 4,
 "nbformat_minor": 2
}
